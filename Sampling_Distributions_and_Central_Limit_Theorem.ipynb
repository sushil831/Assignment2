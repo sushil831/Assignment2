{
  "nbformat": 4,
  "nbformat_minor": 0,
  "metadata": {
    "colab": {
      "provenance": []
    },
    "kernelspec": {
      "name": "python3",
      "display_name": "Python 3"
    },
    "language_info": {
      "name": "python"
    }
  },
  "cells": [
    {
      "cell_type": "code",
      "execution_count": 6,
      "metadata": {
        "id": "vlpb4gEvdtL0"
      },
      "outputs": [],
      "source": [
        "#Q3\n",
        "import numpy as np\n",
        "from scipy import stats\n",
        "from scipy.stats import norm"
      ]
    },
    {
      "cell_type": "code",
      "source": [
        "# For No investigation P(45<X<55)\n",
        "# For Investigation 1-P(45<X<55)"
      ],
      "metadata": {
        "id": "H1CaSu5zdxRL"
      },
      "execution_count": 2,
      "outputs": []
    },
    {
      "cell_type": "code",
      "source": [
        "# find z-scores at x=45; z=(s_mean-P_mean)/(p_SD/sqrt(n))\n",
        "z=(45-50)/(40/100**0.5)\n",
        "z"
      ],
      "metadata": {
        "colab": {
          "base_uri": "https://localhost:8080/"
        },
        "id": "1ciTdn9Cdzp2",
        "outputId": "50361c04-2fc0-4bb1-c077-6437c326b74a"
      },
      "execution_count": 3,
      "outputs": [
        {
          "output_type": "execute_result",
          "data": {
            "text/plain": [
              "-1.25"
            ]
          },
          "metadata": {},
          "execution_count": 3
        }
      ]
    },
    {
      "cell_type": "code",
      "source": [
        "# find z-scores at x=55; z=(s_mean-P_mean)/(p_SD/sqrt(n))\n",
        "z=(55-50)/(40/100**0.5)\n",
        "z"
      ],
      "metadata": {
        "colab": {
          "base_uri": "https://localhost:8080/"
        },
        "id": "EQMsc_hgd3a3",
        "outputId": "e12c0bbb-2ac9-4661-8f89-63a04149eb37"
      },
      "execution_count": 4,
      "outputs": [
        {
          "output_type": "execute_result",
          "data": {
            "text/plain": [
              "1.25"
            ]
          },
          "metadata": {},
          "execution_count": 4
        }
      ]
    },
    {
      "cell_type": "code",
      "source": [
        "# For No investigation P(45<X<55) using z_scores = P(X<50)-P(X<45)\n",
        "stats.norm.cdf(1.25)-stats.norm.cdf(-1.25)"
      ],
      "metadata": {
        "colab": {
          "base_uri": "https://localhost:8080/"
        },
        "id": "E_OJlOqPd6K9",
        "outputId": "ebf68b3d-8a39-4178-a169-63cf652e74fd"
      },
      "execution_count": 7,
      "outputs": [
        {
          "output_type": "execute_result",
          "data": {
            "text/plain": [
              "0.7887004526662893"
            ]
          },
          "metadata": {},
          "execution_count": 7
        }
      ]
    },
    {
      "cell_type": "code",
      "source": [
        "stats.norm.interval(0.7887,loc=50,scale=40/(100**0.5))"
      ],
      "metadata": {
        "colab": {
          "base_uri": "https://localhost:8080/"
        },
        "id": "xypDfLlAd986",
        "outputId": "26c5ef7b-3c9a-4f84-d535-7e8a1621e221"
      },
      "execution_count": 8,
      "outputs": [
        {
          "output_type": "execute_result",
          "data": {
            "text/plain": [
              "(45.00000495667348, 54.99999504332652)"
            ]
          },
          "metadata": {},
          "execution_count": 8
        }
      ]
    },
    {
      "cell_type": "code",
      "source": [
        "# For Investigation 1-P(45<X<55)\n",
        "1-0.7887"
      ],
      "metadata": {
        "colab": {
          "base_uri": "https://localhost:8080/"
        },
        "id": "9kwm3x4QeGEz",
        "outputId": "ae1e0af1-b193-4236-b1f3-b78d4dde708a"
      },
      "execution_count": 9,
      "outputs": [
        {
          "output_type": "execute_result",
          "data": {
            "text/plain": [
              "0.21130000000000004"
            ]
          },
          "metadata": {},
          "execution_count": 9
        }
      ]
    },
    {
      "cell_type": "code",
      "source": [
        "#Q4\n",
        "from scipy.stats import norm\n",
        "\n",
        "# Given data\n",
        "sigma = 5  # Assuming the standard deviation of the population\n",
        "threshold_margin = 55 - 45  # Margin of error (thresholds)\n",
        "\n",
        "# Z-value for a 5% probability on each tail\n",
        "Z_alpha_2 = abs(norm.ppf(0.025))  # Use the absolute value for a two-tailed test\n",
        "\n",
        "# Calculate the minimum sample size\n",
        "min_sample_size = ((Z_alpha_2 * sigma) / threshold_margin) ** 2\n",
        "\n",
        "print(f\"The minimum number of transactions needed for a 5% probability of investigation: {int(min_sample_size)}\")\n"
      ],
      "metadata": {
        "id": "ZjZE30IBwDel"
      },
      "execution_count": null,
      "outputs": []
    },
    {
      "cell_type": "code",
      "source": [
        "#Q5\n",
        "import numpy as np\n",
        "\n",
        "# Parameters of the GMAT score distribution\n",
        "mean_score = 720\n",
        "std_deviation = 120\n",
        "min_score = 650\n",
        "max_score = 790\n",
        "num_samples = 40000\n",
        "\n",
        "# Simulate random samples of GMAT scores\n",
        "np.random.seed(42)  # for reproducibility\n",
        "samples = np.random.normal(mean_score, std_deviation, num_samples)\n",
        "samples = np.clip(samples, min_score, max_score)  # Ensure scores are within the specified range\n",
        "\n",
        "# A. The standard deviation of the scores within any sample will be 120.\n",
        "std_dev_within_sample = np.std(samples)\n",
        "print(f\"A. The standard deviation of the scores within any sample: {std_dev_within_sample:.2f}\")\n",
        "\n",
        "# B. The standard deviation of the mean across several samples will be 120.\n",
        "num_samples_to_take = 1000  # Number of samples to take for option B\n",
        "sample_means = [np.mean(np.random.choice(samples, num_samples_to_take)) for _ in range(num_samples_to_take)]\n",
        "std_dev_of_means = np.std(sample_means)\n",
        "print(f\"B. The standard deviation of the mean across several samples: {std_dev_of_means:.2f}\")\n",
        "\n",
        "# C. The mean score in any sample will be 720.\n",
        "mean_within_sample = np.mean(samples)\n",
        "print(f\"C. The mean score in any sample: {mean_within_sample:.2f}\")\n",
        "\n",
        "# D. The average of the mean across several samples will be 720.\n",
        "average_of_means = np.mean(sample_means)\n",
        "print(f\"D. The average of the mean across several samples: {average_of_means:.2f}\")\n",
        "\n",
        "# E. The standard deviation of the mean across several samples will be 0.60\n",
        "print(\"E. The standard deviation of the mean across several samples can be calculated, but it will not be 0.60.\")\n",
        "\n"
      ],
      "metadata": {
        "colab": {
          "base_uri": "https://localhost:8080/"
        },
        "id": "clh90XbUpZ-t",
        "outputId": "3f4f5845-6bc1-43ed-c29a-87a0579df60a"
      },
      "execution_count": 17,
      "outputs": [
        {
          "output_type": "stream",
          "name": "stdout",
          "text": [
            "A. The standard deviation of the scores within any sample: 58.57\n",
            "B. The standard deviation of the mean across several samples: 1.83\n",
            "C. The mean score in any sample: 719.82\n",
            "D. The average of the mean across several samples: 719.80\n",
            "E. The standard deviation of the mean across several samples can be calculated, but it will not be 0.60.\n"
          ]
        }
      ]
    },
    {
      "cell_type": "code",
      "source": [],
      "metadata": {
        "id": "W8rSh7bXvpxM"
      },
      "execution_count": null,
      "outputs": []
    }
  ]
}