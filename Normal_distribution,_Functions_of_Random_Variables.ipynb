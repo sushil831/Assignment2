{
  "nbformat": 4,
  "nbformat_minor": 0,
  "metadata": {
    "colab": {
      "provenance": []
    },
    "kernelspec": {
      "name": "python3",
      "display_name": "Python 3"
    },
    "language_info": {
      "name": "python"
    }
  },
  "cells": [
    {
      "cell_type": "code",
      "execution_count": null,
      "metadata": {
        "colab": {
          "base_uri": "https://localhost:8080/"
        },
        "id": "pGXOppLH3Nfx",
        "outputId": "dcdfec47-e99b-4cd9-b384-d88dde9077a8"
      },
      "outputs": [
        {
          "output_type": "stream",
          "name": "stdout",
          "text": [
            "The probability that the service manager cannot meet his commitment is 0.0304\n"
          ]
        }
      ],
      "source": [
        "#Q1\n",
        "import scipy.stats as stats\n",
        "\n",
        "# Parameters of the normal distribution\n",
        "mean = 45  # Mean\n",
        "std_dev = 8  # Standard Deviation\n",
        "\n",
        "# Time limit in minutes\n",
        "time_limit = 60\n",
        "\n",
        "# Calculate the z-score (standard score)\n",
        "z = (time_limit - mean) / std_dev\n",
        "\n",
        "# Calculate the probability that servicing time exceeds the time limit\n",
        "probability = 1 - stats.norm.cdf(z)\n",
        "\n",
        "print(f\"The probability that the service manager cannot meet his commitment is {probability:.4f}\")"
      ]
    },
    {
      "cell_type": "code",
      "source": [
        "#Q2\n",
        "from scipy.stats import norm"
      ],
      "metadata": {
        "id": "RaSE3D453djI"
      },
      "execution_count": null,
      "outputs": []
    },
    {
      "cell_type": "code",
      "source": [
        "# A. More employees at the processing center are older than 44 than between 38 and 44."
      ],
      "metadata": {
        "id": "VoJ4xGHR6rTJ"
      },
      "execution_count": null,
      "outputs": []
    },
    {
      "cell_type": "code",
      "source": [
        "# p(X>44); Employees older than 44 yrs of age\n",
        "1-stats.norm.cdf(44,loc=38,scale=6)"
      ],
      "metadata": {
        "colab": {
          "base_uri": "https://localhost:8080/"
        },
        "id": "KBJmUXh06win",
        "outputId": "df40665e-d378-4ae5-804e-f31d52bb2dab"
      },
      "execution_count": null,
      "outputs": [
        {
          "output_type": "execute_result",
          "data": {
            "text/plain": [
              "0.15865525393145707"
            ]
          },
          "metadata": {},
          "execution_count": 4
        }
      ]
    },
    {
      "cell_type": "code",
      "source": [
        "# p(38<X<44); Employees between 38 to 44 yrs of age\n",
        "stats.norm.cdf(44,38,6)-stats.norm.cdf(38,38,6)"
      ],
      "metadata": {
        "colab": {
          "base_uri": "https://localhost:8080/"
        },
        "id": "nPg4Ix-76zpR",
        "outputId": "3fb7c820-dc1e-4138-dca7-af5508c69e59"
      },
      "execution_count": null,
      "outputs": [
        {
          "output_type": "execute_result",
          "data": {
            "text/plain": [
              "0.3413447460685429"
            ]
          },
          "metadata": {},
          "execution_count": 5
        }
      ]
    },
    {
      "cell_type": "code",
      "source": [
        "# B. A training program for employees under the age of 30 at the center would be expected to attract about 36 employees."
      ],
      "metadata": {
        "id": "_pA5_sLC62_Z"
      },
      "execution_count": null,
      "outputs": []
    },
    {
      "cell_type": "code",
      "source": [
        "# P(X<30); Employees under 30 yrs of age\n",
        "stats.norm.cdf(30,38,6)"
      ],
      "metadata": {
        "colab": {
          "base_uri": "https://localhost:8080/"
        },
        "id": "5ek1-y0k6-eW",
        "outputId": "6bdc4c88-580b-4e70-98c7-f97da63e600e"
      },
      "execution_count": null,
      "outputs": [
        {
          "output_type": "execute_result",
          "data": {
            "text/plain": [
              "0.09121121972586788"
            ]
          },
          "metadata": {},
          "execution_count": 7
        }
      ]
    },
    {
      "cell_type": "code",
      "source": [
        "# No. of employees attending training program from 400 nos. is N*P(X<30)\n",
        "400*stats.norm.cdf(30,38,6)"
      ],
      "metadata": {
        "colab": {
          "base_uri": "https://localhost:8080/"
        },
        "id": "P1pX5dFa7BC0",
        "outputId": "02a92b81-b6e5-464b-89a1-c61689cfb1ed"
      },
      "execution_count": null,
      "outputs": [
        {
          "output_type": "execute_result",
          "data": {
            "text/plain": [
              "36.484487890347154"
            ]
          },
          "metadata": {},
          "execution_count": 8
        }
      ]
    },
    {
      "cell_type": "code",
      "source": [
        "#Q3\n",
        "#both 2 X1 and X1 + X2follow normal distributions\n",
        "#They have the same mean\n",
        "\n",
        "import numpy as np\n",
        "from scipy.stats import norm\n",
        "\n",
        "# Define the parameters for X1 and X2\n",
        "mu = 10  # Mean\n",
        "sigma = 2  # Standard Deviation\n",
        "\n",
        "# Create random variables X1 and X2\n",
        "X1 = norm(loc=mu, scale=sigma)\n",
        "X2 = norm(loc=mu, scale=sigma)\n",
        "\n",
        "# Sample values from X1 and X2\n",
        "x1_samples = X1.rvs(size=10000)  # Sample 10,000 values\n",
        "x2_samples = X2.rvs(size=10000)\n",
        "\n",
        "# Define the functions of the random variables\n",
        "g1 = 2 * x1_samples\n",
        "g2 = x1_samples + x2_samples\n",
        "\n",
        "# Calculate the mean and variance for g1 and g2\n",
        "mean_g1 = np.mean(g1)\n",
        "variance_g1 = np.var(g1)\n",
        "\n",
        "mean_g2 = np.mean(g2)\n",
        "variance_g2 = np.var(g2)\n",
        "\n",
        "print(\"For 2X1:\")\n",
        "print(\"Mean:\", mean_g1)\n",
        "print(\"Variance:\", variance_g1)\n",
        "\n",
        "print(\"For X1 + X2:\")\n",
        "print(\"Mean:\", mean_g2)\n",
        "print(\"Variance:\", variance_g2)\n"
      ],
      "metadata": {
        "colab": {
          "base_uri": "https://localhost:8080/"
        },
        "id": "krmnf4Eg_AVV",
        "outputId": "e026978a-940f-4c38-ca06-1103a0e7e58b"
      },
      "execution_count": null,
      "outputs": [
        {
          "output_type": "stream",
          "name": "stdout",
          "text": [
            "For 2X1:\n",
            "Mean: 19.955684336799102\n",
            "Variance: 16.195625655343303\n",
            "For X1 + X2:\n",
            "Mean: 19.963860201214782\n",
            "Variance: 8.055000336368572\n"
          ]
        }
      ]
    },
    {
      "cell_type": "code",
      "source": [
        "#Q4\n",
        "from scipy.stats import norm\n",
        "stats.norm.interval(0.99,100,20)"
      ],
      "metadata": {
        "colab": {
          "base_uri": "https://localhost:8080/"
        },
        "id": "aFvosbYY_VxE",
        "outputId": "01647e5a-938a-47b8-c5ed-00b16f39d155"
      },
      "execution_count": null,
      "outputs": [
        {
          "output_type": "execute_result",
          "data": {
            "text/plain": [
              "(48.48341392902199, 151.516586070978)"
            ]
          },
          "metadata": {},
          "execution_count": 11
        }
      ]
    },
    {
      "cell_type": "code",
      "source": [
        "#Q5\n",
        "import numpy as np\n",
        "from scipy import stats\n",
        "from scipy.stats import norm"
      ],
      "metadata": {
        "id": "tEcuqHKxBq7s"
      },
      "execution_count": null,
      "outputs": []
    },
    {
      "cell_type": "code",
      "source": [
        "# Mean profits from two different divisions of a company = Mean1 + Mean2\n",
        "Mean = 5+7\n",
        "print('Mean Profit is Rs', Mean*45,'Million')"
      ],
      "metadata": {
        "colab": {
          "base_uri": "https://localhost:8080/"
        },
        "id": "Ir4Lw8omC-ZA",
        "outputId": "256ed7ce-fc0a-415e-84e0-8f44d7605fc2"
      },
      "execution_count": null,
      "outputs": [
        {
          "output_type": "stream",
          "name": "stdout",
          "text": [
            "Mean Profit is Rs 540 Million\n"
          ]
        }
      ]
    },
    {
      "cell_type": "code",
      "source": [
        "# Variance of profits from two different divisions of a company = SD^2 = SD1^2 + SD2^2\n",
        "SD = np.sqrt((9)+(16))\n",
        "print('Standard Deviation is Rs', SD*45, 'Million')"
      ],
      "metadata": {
        "colab": {
          "base_uri": "https://localhost:8080/"
        },
        "id": "BIIyKd2cDAu8",
        "outputId": "a7123782-c8b0-44bb-e4c2-e5076cb1f70b"
      },
      "execution_count": null,
      "outputs": [
        {
          "output_type": "stream",
          "name": "stdout",
          "text": [
            "Standard Deviation is Rs 225.0 Million\n"
          ]
        }
      ]
    },
    {
      "cell_type": "code",
      "source": [
        "# A. Specify a Rupee range (centered on the mean) such that it contains 95% probability for the annual profit of the company.\n",
        "print('Range is Rs',(stats.norm.interval(0.95,540,225)),'in Millions')"
      ],
      "metadata": {
        "colab": {
          "base_uri": "https://localhost:8080/"
        },
        "id": "dVMSPYJTDDjC",
        "outputId": "58d5565d-4092-413c-9feb-7e09ed82cfb7"
      },
      "execution_count": null,
      "outputs": [
        {
          "output_type": "stream",
          "name": "stdout",
          "text": [
            "Range is Rs (99.00810347848784, 980.9918965215122) in Millions\n"
          ]
        }
      ]
    },
    {
      "cell_type": "code",
      "source": [
        "# B. Specify the 5th percentile of profit (in Rupees) for the company\n",
        "# To compute 5th Percentile, we use the formula X=μ + Zσ; wherein from z table, 5 percentile = -1.645\n",
        "X= 540+(-1.645)*(225)\n",
        "print('5th percentile of profit (in Million Rupees) is',np.round(X,))"
      ],
      "metadata": {
        "colab": {
          "base_uri": "https://localhost:8080/"
        },
        "id": "GbomFP1LDGHj",
        "outputId": "7e5d4af2-97bc-45f6-cc8c-9d641bb55c5f"
      },
      "execution_count": null,
      "outputs": [
        {
          "output_type": "stream",
          "name": "stdout",
          "text": [
            "5th percentile of profit (in Million Rupees) is 170.0\n"
          ]
        }
      ]
    },
    {
      "cell_type": "code",
      "source": [
        "# C. Which of the two divisions has a larger probability of making a loss in a given year?"
      ],
      "metadata": {
        "id": "xJh5piQqDI7f"
      },
      "execution_count": null,
      "outputs": []
    },
    {
      "cell_type": "code",
      "source": [
        "# Probability of Division 1 making a loss P(X<0)\n",
        "stats.norm.cdf(0,5,3)"
      ],
      "metadata": {
        "id": "ITootumKDNjB",
        "outputId": "af66f275-01cf-4e9f-ac49-853470fed132",
        "colab": {
          "base_uri": "https://localhost:8080/"
        }
      },
      "execution_count": null,
      "outputs": [
        {
          "output_type": "execute_result",
          "data": {
            "text/plain": [
              "0.0477903522728147"
            ]
          },
          "metadata": {},
          "execution_count": 18
        }
      ]
    },
    {
      "cell_type": "code",
      "source": [
        "# Probability of Division 2 making a loss P(X<0)\n",
        "stats.norm.cdf(0,7,4)"
      ],
      "metadata": {
        "id": "1iF8YFixDQWp",
        "outputId": "0d66dd52-dfdc-41ec-b15f-f845833bae0c",
        "colab": {
          "base_uri": "https://localhost:8080/"
        }
      },
      "execution_count": null,
      "outputs": [
        {
          "output_type": "execute_result",
          "data": {
            "text/plain": [
              "0.040059156863817086"
            ]
          },
          "metadata": {},
          "execution_count": 19
        }
      ]
    },
    {
      "cell_type": "code",
      "source": [],
      "metadata": {
        "id": "MYCM1VCvDSv2"
      },
      "execution_count": null,
      "outputs": []
    }
  ]
}