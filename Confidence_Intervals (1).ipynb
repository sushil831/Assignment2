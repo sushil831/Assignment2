{
  "nbformat": 4,
  "nbformat_minor": 0,
  "metadata": {
    "colab": {
      "provenance": []
    },
    "kernelspec": {
      "name": "python3",
      "display_name": "Python 3"
    },
    "language_info": {
      "name": "python"
    }
  },
  "cells": [
    {
      "cell_type": "code",
      "source": [
        "#Q2\n",
        "# Population\n",
        "population = \"All readers of PC Magazine in 2004 who rated electronic products on a scale from 1 to 10\"\n",
        "print(\"A. The population:\", population)\n"
      ],
      "metadata": {
        "colab": {
          "base_uri": "https://localhost:8080/"
        },
        "id": "q8kvV51T0RXd",
        "outputId": "138ca585-6a19-4403-c035-07d931d89cef"
      },
      "execution_count": null,
      "outputs": [
        {
          "output_type": "stream",
          "name": "stdout",
          "text": [
            "A. The population: All readers of PC Magazine in 2004 who rated electronic products on a scale from 1 to 10\n"
          ]
        }
      ]
    },
    {
      "cell_type": "code",
      "source": [
        "# Parameter of Interest\n",
        "parameter_of_interest = 7.5  # The average rating assigned to a Kodak compact digital camera\n",
        "print(\"B. The parameter of interest:\", parameter_of_interest)\n"
      ],
      "metadata": {
        "colab": {
          "base_uri": "https://localhost:8080/"
        },
        "id": "_EKPjp4-3FL2",
        "outputId": "1df2c3b6-6d63-4d8f-9acf-6a5d7ef5d1ec"
      },
      "execution_count": null,
      "outputs": [
        {
          "output_type": "stream",
          "name": "stdout",
          "text": [
            "B. The parameter of interest: 7.5\n"
          ]
        }
      ]
    },
    {
      "cell_type": "code",
      "source": [
        "# Sampling Frame\n",
        "sampling_frame = \"Readers who participated in the survey\"\n",
        "print(\"C. The sampling frame:\", sampling_frame)\n"
      ],
      "metadata": {
        "colab": {
          "base_uri": "https://localhost:8080/"
        },
        "id": "iRCa-JnH3POG",
        "outputId": "9bce65d2-d590-4e3b-c1ad-c1956aac1cbb"
      },
      "execution_count": null,
      "outputs": [
        {
          "output_type": "stream",
          "name": "stdout",
          "text": [
            "C. The sampling frame: Readers who participated in the survey\n"
          ]
        }
      ]
    },
    {
      "cell_type": "code",
      "source": [
        "# Sample Size\n",
        "sample_size = 225\n",
        "print(\"D. The sample size:\", sample_size)\n"
      ],
      "metadata": {
        "colab": {
          "base_uri": "https://localhost:8080/"
        },
        "id": "G2C78nO-3TjG",
        "outputId": "4d600417-4f42-4f19-d7d9-5d6696aeb5c3"
      },
      "execution_count": null,
      "outputs": [
        {
          "output_type": "stream",
          "name": "stdout",
          "text": [
            "D. The sample size: 225\n"
          ]
        }
      ]
    },
    {
      "cell_type": "code",
      "source": [
        "# Sampling Design (This part may require additional information)\n",
        "sampling_design = \"Not specified in the given information\"\n",
        "print(\"E. The sampling design:\", sampling_design)\n"
      ],
      "metadata": {
        "colab": {
          "base_uri": "https://localhost:8080/"
        },
        "id": "1KqQbZcV3Wmx",
        "outputId": "1e185e8d-07c1-4c31-c76b-1f2cb56a598d"
      },
      "execution_count": null,
      "outputs": [
        {
          "output_type": "stream",
          "name": "stdout",
          "text": [
            "E. The sampling design: Not specified in the given information\n"
          ]
        }
      ]
    },
    {
      "cell_type": "code",
      "source": [
        "#F: Any potential sources of bias or the survey or sample other problems with\n",
        "#VOLUNTARY RESPONSE BIAS: SINCE THE READERS VOLUNTARILY CHOSE TO PARTICIPATE IN THE SURVEY, THIS CAN INTRODUCE VOLUNTARY RESPONSE BIAS. PEOPLE WHO HAD STRONG OPINIONS\n"
      ],
      "metadata": {
        "id": "6_7rF_zD3bnT"
      },
      "execution_count": null,
      "outputs": []
    },
    {
      "cell_type": "code",
      "source": [
        "#Q6\n",
        "import scipy.stats as stats\n",
        "\n",
        "# Given values\n",
        "sample_mean = 250\n",
        "margin_of_error = 45\n",
        "confidence_level = 0.95\n",
        "\n",
        "# Calculate the standard error of the mean\n",
        "standard_error = margin_of_error / stats.norm.ppf((1 + confidence_level) / 2)\n",
        "\n",
        "# Calculate the lower and upper bounds of the confidence interval\n",
        "lower_bound = sample_mean - standard_error\n",
        "upper_bound = sample_mean + standard_error\n",
        "\n",
        "# Interpretation\n",
        "interpretation = f\"The 95% confidence interval ({lower_bound} to {upper_bound} books) suggests that we are 95% confident that the true size of the shipment falls within this range.\"\n",
        "\n",
        "print(interpretation)\n"
      ],
      "metadata": {
        "colab": {
          "base_uri": "https://localhost:8080/"
        },
        "id": "IvcLoqF65jWe",
        "outputId": "ef10c32c-c2a4-410c-a5ac-3d5a1bd8f18c"
      },
      "execution_count": null,
      "outputs": [
        {
          "output_type": "stream",
          "name": "stdout",
          "text": [
            "The 95% confidence interval (227.04039443839056 to 272.9596055616094 books) suggests that we are 95% confident that the true size of the shipment falls within this range.\n"
          ]
        }
      ]
    },
    {
      "cell_type": "code",
      "source": [
        "#Q7\n",
        "import scipy.stats as stats\n",
        "\n",
        "# Given values\n",
        "confidence_level = 0.95\n",
        "sample_size = 100  # You can change this to your specific sample size\n",
        "sample_standard_deviation = 10  # You can change this to your specific sample standard deviation\n",
        "\n",
        "# Calculate the z-interval length\n",
        "z_critical = stats.norm.ppf((1 + confidence_level) / 2)\n",
        "z_interval_length = 2 * z_critical * (sample_standard_deviation / (sample_size**0.5))\n",
        "\n",
        "# Calculate the t-interval length\n",
        "t_critical = stats.t.ppf((1 + confidence_level) / 2, df=sample_size - 1)\n",
        "t_interval_length = 2 * t_critical * (sample_standard_deviation / (sample_size**0.5))\n",
        "\n",
        "# Compare the lengths\n",
        "shorter_interval = \"z-interval\" if z_interval_length < t_interval_length else \"t-interval\"\n",
        "\n",
        "print(f\"The shorter interval is the {shorter_interval}.\")\n"
      ],
      "metadata": {
        "colab": {
          "base_uri": "https://localhost:8080/"
        },
        "id": "SWI020y75kJn",
        "outputId": "58e78e8f-e886-4fd7-f9c2-0d525b07ca7e"
      },
      "execution_count": null,
      "outputs": [
        {
          "output_type": "stream",
          "name": "stdout",
          "text": [
            "The shorter interval is the z-interval.\n"
          ]
        }
      ]
    },
    {
      "cell_type": "code",
      "source": [
        "#Q8\n",
        "import math\n",
        "\n",
        "def calculate_sample_size(margin_of_error, confidence_level):\n",
        "    z_critical = stats.norm.ppf(1 - (1 - confidence_level) / 2)\n",
        "    estimated_proportion = 0.5  # Using 0.5 for maximum variability when the true proportion is unknown\n",
        "    required_sample_size = (z_critical**2 * estimated_proportion * (1 - estimated_proportion)) / margin_of_error**2\n",
        "    return math.ceil(required_sample_size)  # Rounding up to ensure a whole number of samples\n",
        "\n",
        "# Given values\n",
        "margin_of_error = 0.04  # 4% margin of error\n",
        "confidence_level = 0.95  # 95% confidence level\n",
        "\n",
        "# Calculate the minimum required sample size\n",
        "required_sample = calculate_sample_size(margin_of_error, confidence_level)\n",
        "print(f\"The minimum required sample size is: {required_sample}\")\n"
      ],
      "metadata": {
        "colab": {
          "base_uri": "https://localhost:8080/"
        },
        "id": "TYqZIe3q6afS",
        "outputId": "920fc24a-12a9-42b1-c89e-fe2bb3e8b032"
      },
      "execution_count": null,
      "outputs": [
        {
          "output_type": "stream",
          "name": "stdout",
          "text": [
            "The minimum required sample size is: 601\n"
          ]
        }
      ]
    },
    {
      "cell_type": "code",
      "source": [
        "#Q9\n",
        "import math\n",
        "\n",
        "def calculate_sample_size(margin_of_error, confidence_level):\n",
        "    z_critical = stats.norm.ppf(1 - (1 - confidence_level) / 2)\n",
        "    estimated_proportion = 0.5  # Using 0.5 for maximum variability when the true proportion is unknown\n",
        "    required_sample_size = (z_critical**2 * estimated_proportion * (1 - estimated_proportion)) / margin_of_error**2\n",
        "    return math.ceil(required_sample_size)  # Rounding up to ensure a whole number of samples\n",
        "\n",
        "# Given values\n",
        "margin_of_error = 0.04  # 4% margin of error\n",
        "confidence_level = 0.98  # 98% confidence level\n",
        "\n",
        "# Calculate the minimum required sample size\n",
        "required_sample = calculate_sample_size(margin_of_error, confidence_level)\n",
        "print(f\"The minimum required sample size for a 98% confidence level is: {required_sample}\")\n"
      ],
      "metadata": {
        "colab": {
          "base_uri": "https://localhost:8080/"
        },
        "id": "wJ9sATUq7GYB",
        "outputId": "ef4b86a5-c9dd-4b91-cb2b-3a1632efed2a"
      },
      "execution_count": null,
      "outputs": [
        {
          "output_type": "stream",
          "name": "stdout",
          "text": [
            "The minimum required sample size for a 98% confidence level is: 846\n"
          ]
        }
      ]
    },
    {
      "cell_type": "code",
      "source": [],
      "metadata": {
        "id": "N4iYFg-b7Znk"
      },
      "execution_count": null,
      "outputs": []
    }
  ]
}