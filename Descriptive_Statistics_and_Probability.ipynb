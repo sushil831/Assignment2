{
  "nbformat": 4,
  "nbformat_minor": 0,
  "metadata": {
    "colab": {
      "provenance": []
    },
    "kernelspec": {
      "name": "python3",
      "display_name": "Python 3"
    },
    "language_info": {
      "name": "python"
    }
  },
  "cells": [
    {
      "cell_type": "code",
      "source": [
        "#Q1\tLook at the data given below. Plot the data, find the outliers and find out  μ,σ,σ^2\n",
        "#The boxplot will help us identify outliers in the data\n",
        "import matplotlib.pyplot as plt\n",
        "\n",
        "# Given data\n",
        "measure_x = [24.23, 25.53, 25.41, 24.14, 29.62, 28.25, 25.81, 24.39, 40.26, 32.95, 91.36, 25.99, 39.42, 26.71, 35.00]\n",
        "\n",
        "# Plotting the data\n",
        "plt.figure(figsize=(8, 5))\n",
        "plt.boxplot(measure_x)\n",
        "plt.title('Boxplot of Measure X')\n",
        "plt.ylabel('Measure X')\n",
        "plt.show()\n"
      ],
      "metadata": {
        "colab": {
          "base_uri": "https://localhost:8080/",
          "height": 468
        },
        "id": "pwwljJQrhPha",
        "outputId": "24a0dc9f-3fa1-4130-9259-e504bda08604"
      },
      "execution_count": null,
      "outputs": [
        {
          "output_type": "display_data",
          "data": {
            "text/plain": [
              "<Figure size 800x500 with 1 Axes>"
            ],
            "image/png": "[encoded data removed]"
          },
          "metadata": {}
        }
      ]
    },
    {
      "cell_type": "code",
      "source": [
        "import numpy as np\n",
        "\n",
        "# Calculating mean, standard deviation, and variance\n",
        "mean = np.mean(measure_x)\n",
        "std_dev = np.std(measure_x)\n",
        "variance = np.var(measure_x)\n",
        "\n",
        "print(f\"Mean (μ): {mean}\")\n",
        "print(f\"Standard Deviation (σ): {std_dev}\")\n",
        "print(f\"Variance (σ^2): {variance}\")\n"
      ],
      "metadata": {
        "colab": {
          "base_uri": "https://localhost:8080/"
        },
        "id": "JrA0nlXThQm7",
        "outputId": "7f313dd6-6230-4591-a9b2-1b92ef99114c"
      },
      "execution_count": null,
      "outputs": [
        {
          "output_type": "stream",
          "name": "stdout",
          "text": [
            "Mean (μ): 33.27133333333333\n",
            "Standard Deviation (σ): 16.370812590976932\n",
            "Variance (σ^2): 268.00350488888887\n"
          ]
        }
      ]
    },
    {
      "cell_type": "code",
      "source": [
        "#Q4\n",
        "def probability_of_misdirected_call(probability_of_one_call):\n",
        "    #the probability of at least one misdirected call\n",
        "    probability_of_no_misdirected_call = (1 - probability_of_one_call)\n",
        "    probability_of_at_least_one_misdirected_call = 1 - (probability_of_no_misdirected_call) ** 1\n",
        "    return probability_of_at_least_one_misdirected_call\n",
        "\n",
        "# Probability of one misdirected call in 200 (1/200)\n",
        "probability_one_call = 1 / 200\n",
        "\n",
        "result = probability_of_misdirected_call(probability_one_call)\n",
        "print(f\"The probability of at least one misdirected call is {result:.4f}\")\n"
      ],
      "metadata": {
        "colab": {
          "base_uri": "https://localhost:8080/"
        },
        "id": "79IIVZAtiSQC",
        "outputId": "a0a3de45-68a0-44b5-caf5-edc629c8ce3e"
      },
      "execution_count": null,
      "outputs": [
        {
          "output_type": "stream",
          "name": "stdout",
          "text": [
            "The probability of at least one misdirected call is 0.0050\n"
          ]
        }
      ]
    },
    {
      "cell_type": "code",
      "source": [
        "#Q5\n",
        "# Define the values and their probabilities\n",
        "values = [-2000, -1000, 0, 1000, 2000, 3000]\n",
        "probabilities = [0.1, 0.1, 0.2, 0.2, 0.3, 0.1]\n",
        "\n",
        "# Calculate the expected value (mean)\n",
        "expected_value = sum(x * p for x, p in zip(values, probabilities))\n",
        "\n",
        "# Calculate the variance\n",
        "variance = sum((x - expected_value)**2 * p for x, p in zip(values, probabilities))\n",
        "\n",
        "# Calculate the standard deviation\n",
        "std_deviation = variance**0.5\n",
        "\n",
        "# Print the results\n",
        "print(\"Expected Value (Mean): ${:,.2f}\".format(expected_value))\n",
        "print(\"Variance: ${:,.2f}\".format(variance))\n",
        "print(\"Standard Deviation: ${:,.2f}\".format(std_deviation))\n"
      ],
      "metadata": {
        "colab": {
          "base_uri": "https://localhost:8080/"
        },
        "id": "JJ1lE83v8pdK",
        "outputId": "6f5b5bd1-986d-4d29-af71-1893badc6ba2"
      },
      "execution_count": 1,
      "outputs": [
        {
          "output_type": "stream",
          "name": "stdout",
          "text": [
            "Expected Value (Mean): $800.00\n",
            "Variance: $2,160,000.00\n",
            "Standard Deviation: $1,469.69\n"
          ]
        }
      ]
    },
    {
      "cell_type": "code",
      "source": [],
      "metadata": {
        "id": "9TAEZ1N78qLP"
      },
      "execution_count": null,
      "outputs": []
    }
  ]
}